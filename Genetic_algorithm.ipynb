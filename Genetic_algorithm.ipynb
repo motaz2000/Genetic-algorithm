{
 "cells": [
  {
   "cell_type": "code",
   "execution_count": 6,
   "id": "dc23c080-0edf-44ff-ab19-e89a5aebd438",
   "metadata": {},
   "outputs": [],
   "source": [
    "import numpy as np\n",
    "import random \n",
    "\n",
    "\n",
    "\n",
    "\n",
    "\n"
   ]
  },
  {
   "cell_type": "markdown",
   "id": "36c28dfb-c6e8-4a25-8611-1725e93bc4d0",
   "metadata": {},
   "source": [
    "First is to create the Genome and the Population of the Genetic algorithms.\n",
    "A genome here is 7*108 bits; because each dipole machine is represented with 7 bits"
   ]
  },
  {
   "cell_type": "code",
   "execution_count": 26,
   "id": "5bd06270-6f65-417f-b74b-d359cccaec25",
   "metadata": {},
   "outputs": [
    {
     "name": "stdout",
     "output_type": "stream",
     "text": [
      "range(0, 10)\n"
     ]
    }
   ],
   "source": [
    "n_bits = 7*108\n",
    "n_solutions = 10\n",
    "pop = [np.random.randint(2, size= n_bits).tolist() for _ in range(n_solutions)]\n",
    "r_elit = 0.05\n",
    "n_elites = round(n_solutions*r_elit)"
   ]
  },
  {
   "cell_type": "markdown",
   "id": "010c88c5-2b34-4a7a-945e-05c72d61c7f4",
   "metadata": {},
   "source": [
    "Initialize the selection, crossover and mutation functions"
   ]
  },
  {
   "cell_type": "code",
   "execution_count": null,
   "id": "7daa3a0d-4bbb-4fd2-8e9b-118a9dd0a2ee",
   "metadata": {},
   "outputs": [],
   "source": [
    "# selection function takes a random parent with high fitness value\n",
    "def selection(Pop, Scores, K=3):\n",
    "    # first random selection\n",
    "    Ran_selection = randint(len(Pop))\n",
    "    for ix in randint(0, len(Pop), K-1):\n",
    "        # check if better (e.g. perform a tournament)\n",
    "        if Scores[ix] < scores[Ran_selection]:\n",
    "            Ran_selection = ix\n",
    "return Pop[Ran_selection]"
   ]
  },
  {
   "cell_type": "code",
   "execution_count": null,
   "id": "af808f29-638a-456a-8167-960ca1d89854",
   "metadata": {},
   "outputs": [],
   "source": [
    "# crossover two parents to create two children \n",
    "def crossover(P1, P2, R_cross):\n",
    "    # children are copies of parents by default\n",
    "    C1, C2 = P1.copy(), P2.copy()\n",
    "    # check for recombination\n",
    "    if rand() < R_cross:\n",
    "        # select crossover point that is not on the end of the string\n",
    "        Pt = randint(1, len(p1)-2)\n",
    "        # perform crossover\n",
    "        C1 = P1[:Pt] + P2[Pt:]\n",
    "        C2 = P2[:Pt] + P1[Pt:]\n",
    "return [C1, C2]"
   ]
  },
  {
   "cell_type": "code",
   "execution_count": null,
   "id": "2d92dbda-b0f0-4bde-b842-e8eb4ccd60e2",
   "metadata": {},
   "outputs": [],
   "source": [
    "# mutation function flips the bits of the genome \n",
    "def mutation(Bitstring, R_mut):\n",
    "    for i in range(len(Bitstring)):\n",
    "        # check for a mutation\n",
    "        if rand() < R_mut:\n",
    "            # flip the bit\n",
    "            Bitstring[i] = 1 - Bitstring[i]\n",
    "return Bitstring"
   ]
  },
  {
   "cell_type": "markdown",
   "id": "0206ac25-4f7e-4ab1-a0d2-932e60f32974",
   "metadata": {},
   "source": [
    "Initialize the sorting and elitism functions"
   ]
  },
  {
   "cell_type": "code",
   "execution_count": null,
   "id": "2026c00d-27d1-4750-a812-75637d077d33",
   "metadata": {},
   "outputs": [],
   "source": [
    "def sort(Pop,Scores):\n",
    "    Sorted_pairs = sorted(zip(Pop, Scores), key=lambda pair: pair[1])\n",
    "    Sorted_pop = [Pop for Pop, Score in Sorted_pairs]\n",
    "return Sorted_pop"
   ]
  },
  {
   "cell_type": "code",
   "execution_count": null,
   "id": "6183b39c-b4af-47dd-bf6c-f91f8751ff5d",
   "metadata": {},
   "outputs": [],
   "source": [
    "def elitism(Sorted_pop,N_elites):\n",
    "    Elites = [0 for _ in range(N_elites)]\n",
    "    for i in range(N_elites):\n",
    "        Elites[i] = Sorted_pop[i]\n",
    "return Elites\n",
    "    "
   ]
  },
  {
   "cell_type": "markdown",
   "id": "91b8a9d4-b927-4cdc-8780-0867a41576c6",
   "metadata": {},
   "source": [
    "The read function takes a genome and gives a list of decimal indicating the position of each dipole magnet\n",
    "note: the positions are from 0-107"
   ]
  },
  {
   "cell_type": "code",
   "execution_count": null,
   "id": "41b818aa-782c-487f-b3ff-eb0e5f816a90",
   "metadata": {},
   "outputs": [],
   "source": [
    "def read(genome):\n",
    "    arraydec = [200 for _ in range(108)]\n",
    "    arraypos = [a for a in range(108)]\n",
    "    arrayA = []\n",
    "    arrayB = []\n",
    "    for i in range(108):\n",
    "        # Convert the integer list to a string \n",
    "        binary_string = ''.join(map(str, genome[i:i+7]))\n",
    "        # Convert the binary string to a decimal integer\n",
    "        decimal_number = int(binary_string, 2)\n",
    "        # Checking if the number is larger than the max\n",
    "        if decimal_number > 107:\n",
    "            decimal_number = decimal_number-108\n",
    "        # Checking for any duplicates \n",
    "        if decimal_number in arraydec:\n",
    "            # Assigning the duplicates to another array and also assigning the number of the magnet\n",
    "            arrayA.append(i)\n",
    "            arrayB.append(decimal_number)\n",
    "        arraydec[i] = decimal_number\n",
    "        arraypos.pop(i)\n",
    "    # Sorting the duplicates and assigning them to the returned array\n",
    "    sort = sorted(zip(arrayA, arrayB), key=lambda pair: pair[1])\n",
    "    arrayA = [arrayA for arrayA, arrayB in sort]\n",
    "    for i in range(len(arrayA)):\n",
    "        j = arrayA[i]\n",
    "        arraydec[j] = arraypos[i]\n",
    "\n",
    "return arraydec"
   ]
  },
  {
   "cell_type": "markdown",
   "id": "3fee8d88-5400-47c9-bebf-748de880dd2f",
   "metadata": {},
   "source": [
    "Now we initialize the max number of generations and start to run the evolutions"
   ]
  },
  {
   "cell_type": "code",
   "execution_count": null,
   "id": "43608a67-df9f-478c-bc48-9e50fae48027",
   "metadata": {},
   "outputs": [],
   "source": [
    "n_gen= 100\n",
    "for gen in range(n_gen):\n",
    "    scores = [fitness(c) for c in range(n_solutions)]\n",
    "    # select parents\n",
    "    selected = [selection(pop, scores) for _ in range(n_solutions-n_elites)]\n",
    "    # create the next generation\n",
    "    children = list()\n",
    "    # sort the pop and append the elites to the next generation\n",
    "    sorted_pop = sort(pop,scores);\n",
    "    elites = elitism(sorted_pop, n_elites);\n",
    "    children.extend(elites)\n",
    "    # select parents in pairs\n",
    "    for i in range(0, n_solutions-n_elites, 2):\n",
    "        p1, p2 = selected[i], selected[i+1]\n",
    "        # crossover and mutation\n",
    "        for c in crossover(p1, p2, r_cross):\n",
    "            # mutation\n",
    "            mutation(c, r_mut)\n",
    "            # append to the next generation\n",
    "            children.append(c)\n",
    "    pop = children"
   ]
  },
  {
   "cell_type": "code",
   "execution_count": null,
   "id": "f945804a-1214-424d-8f74-1cb872587f12",
   "metadata": {},
   "outputs": [],
   "source": []
  }
 ],
 "metadata": {
  "kernelspec": {
   "display_name": "Python 3 (ipykernel)",
   "language": "python",
   "name": "python3"
  },
  "language_info": {
   "codemirror_mode": {
    "name": "ipython",
    "version": 3
   },
   "file_extension": ".py",
   "mimetype": "text/x-python",
   "name": "python",
   "nbconvert_exporter": "python",
   "pygments_lexer": "ipython3",
   "version": "3.10.12"
  }
 },
 "nbformat": 4,
 "nbformat_minor": 5
}
